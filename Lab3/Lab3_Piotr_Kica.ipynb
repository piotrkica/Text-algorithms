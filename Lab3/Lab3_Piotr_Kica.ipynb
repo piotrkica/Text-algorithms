{
 "cells": [
  {
   "cell_type": "markdown",
   "id": "beginning-registrar",
   "metadata": {},
   "source": [
    "Instrukcje\n",
    "Zadanie polega na implementacji dwóch algorytmów kompresji:\n",
    "\n",
    "    -statycznego algorytmu Huffmana (1 punkt)\n",
    "\n",
    "    -dynamicznego algorytmu Huffmana (2 punkty)\n",
    "\n",
    "Dla każdego z algorytmów należy wykonać następujące zadania:\n",
    "\n",
    "    1.Opracować format pliku przechowującego dane.\n",
    "\n",
    "    2.Zaimplementować algorytm kompresji i dekompresji danych dla tego formatu pliku.\n",
    "\n",
    "    3.Zmierzyć współczynnik kompresji (wyrażone w procentach: 1 - plik_skompresowany / plik_nieskompresowany) dla plików tekstowych o rozmiarach: 1kB, 10kB, 100kB, 1MB, dla różnych typów plików: plik tekstowy z portalu Guttenberga, plik źródłowy z Githubu, plik ze znakami losowanymi z rozkładu jednostajnego.\n",
    "\n",
    "    4.Zmierzyć czas kompresji i dekompresji dla plików z punktu 3 dla każdego algorytmu.\n",
    "\n",
    "\n",
    "Zadanie dla chętnych:\n",
    "\n",
    "    Zaimplementować dowolny algorytm ze zmiennym blokiem kompresji, który uzyska lepszy współczynnik kompresji na większości danych wejściowych, niż algorytmy Huffmana  (+2 punkty)."
   ]
  },
  {
   "cell_type": "markdown",
   "id": "widespread-constant",
   "metadata": {},
   "source": [
    "#### Format pliku"
   ]
  },
  {
   "cell_type": "markdown",
   "id": "wrong-transparency",
   "metadata": {},
   "source": [
    "* 8 bitów na początku określających ile jest pustych bitów na końcu\n",
    "* zakodowany tekst\n",
    "* puste bity (aby liczba bitów % 8 == 0)"
   ]
  },
  {
   "cell_type": "markdown",
   "id": "directed-retail",
   "metadata": {},
   "source": [
    "#### Zapisywanie i wczytywanie, importy, funkcje pomocnicze..."
   ]
  },
  {
   "cell_type": "code",
   "execution_count": 1,
   "id": "educational-tyler",
   "metadata": {},
   "outputs": [],
   "source": [
    "from bitarray import bitarray\n",
    "from collections import Counter\n",
    "from time import time\n",
    "from bitarray.util import ba2int, int2ba\n",
    "import os\n",
    "from random import randrange\n",
    "\n",
    "def get_compression_ratio(read_file, write_file):\n",
    "    coded_size = os.path.getsize(write_file)\n",
    "    original_size = os.path.getsize(read_file)\n",
    "    return 1-coded_size / original_size\n",
    "\n",
    "def write_compressed(filename, bitstring):\n",
    "    with open(filename, \"wb+\") as file:\n",
    "        bitstring.tofile(file)\n",
    "\n",
    "def read_compressed(filename):\n",
    "    bitstring = bitarray()    \n",
    "    with open(f'{filename}', 'rb') as file:\n",
    "        bitstring.fromfile(file)\n",
    "    return bitstring\n",
    "\n",
    "def generate_uniform_dist_file(filename, text_len):\n",
    "    text = \"\"\n",
    "    for i in range(1, text_len + 1):\n",
    "        text += chr(randrange(48, 122))\n",
    "        if (i % 50 == 0):\n",
    "            text += \"\\n\"\n",
    "            \n",
    "    with open(filename, \"w+\") as file:\n",
    "        file.write(text)"
   ]
  },
  {
   "cell_type": "markdown",
   "id": "following-voltage",
   "metadata": {},
   "source": [
    "#### Klasa node (współdzielona przez oba algorytmy)"
   ]
  },
  {
   "cell_type": "code",
   "execution_count": 2,
   "id": "spanish-foster",
   "metadata": {},
   "outputs": [],
   "source": [
    "class Node():\n",
    "    def __init__(self, char=None, weight=0, order=0, left=None, right=None, parent=None):\n",
    "        self.left = left\n",
    "        self.right = right\n",
    "        self.weight = weight\n",
    "        self.char = char\n",
    "        self.order = order\n",
    "        self.parent = parent\n",
    "\n",
    "    def __str__(self):\n",
    "        return f\"'{self.char}' : {self.weight}\"\n",
    "\n",
    "    def is_leaf(self):\n",
    "        if self.left is None and self.right is None:\n",
    "            return True\n",
    "        return False"
   ]
  },
  {
   "cell_type": "markdown",
   "id": "imposed-columbus",
   "metadata": {},
   "source": [
    "### Static huffman"
   ]
  },
  {
   "cell_type": "code",
   "execution_count": 3,
   "id": "joint-married",
   "metadata": {},
   "outputs": [],
   "source": [
    "class StaticHuffman:\n",
    "    def __init__(self, text):\n",
    "        self.text = text\n",
    "        self.root = self.static_huffman()\n",
    "        self.coded_chars_dict = self.get_coded_chars_dict()\n",
    "\n",
    "    def static_huffman(self):\n",
    "        letter_counts = Counter(self.text)\n",
    "        nodes = []\n",
    "        for letter, weight in letter_counts.items():\n",
    "            nodes.append(Node(char=letter, weight=weight))\n",
    "        internal_nodes = []\n",
    "        leafs = sorted(nodes, key=lambda n: n.weight)\n",
    "        while len(leafs) + len(internal_nodes) > 1:\n",
    "            lightest_nodes = []\n",
    "            if len(leafs) >= 2:\n",
    "                lightest_nodes += leafs[:2]\n",
    "            elif len(leafs) == 1:\n",
    "                lightest_nodes.append(leafs[0])\n",
    "            if len(internal_nodes) >= 2:\n",
    "                lightest_nodes += internal_nodes[:2]\n",
    "            elif len(internal_nodes) == 1:\n",
    "                lightest_nodes.append(internal_nodes[0])\n",
    "\n",
    "            lightest_nodes.sort(key=lambda n: n.weight)\n",
    "            element_1, element_2 = lightest_nodes[0], lightest_nodes[1]\n",
    "\n",
    "            new_internal_node = Node(weight=element_1.weight + element_2.weight)\n",
    "            new_internal_node.left = element_1\n",
    "            new_internal_node.right = element_2\n",
    "            internal_nodes.append(new_internal_node)\n",
    "\n",
    "            if len(leafs) > 0 and element_1 == leafs[0]:\n",
    "                leafs.pop(0)\n",
    "            else:\n",
    "                internal_nodes.pop(0)\n",
    "            if len(leafs) > 0 and element_2 == leafs[0]:\n",
    "                leafs.pop(0)\n",
    "            else:\n",
    "                internal_nodes.pop(0)\n",
    "\n",
    "        return internal_nodes[0]\n",
    "\n",
    "    def get_coded_chars_dict(self):\n",
    "        def _code_chars(node, code):\n",
    "            if node.is_leaf():\n",
    "                coded_chars_dict[node.char] = code\n",
    "                return\n",
    "            if node.left:\n",
    "                _code_chars(node.left, code + bitarray(\"0\"))\n",
    "            if node.right:\n",
    "                _code_chars(node.right, code + bitarray(\"1\"))\n",
    "\n",
    "        coded_chars_dict = dict()\n",
    "        _code_chars(self.root.left, bitarray(\"0\"))\n",
    "        _code_chars(self.root.right, bitarray(\"1\"))\n",
    "\n",
    "        return coded_chars_dict\n",
    "\n",
    "    def encode(self):\n",
    "        coded_text = bitarray()\n",
    "        for s in self.text:\n",
    "            coded_text += self.coded_chars_dict[s]\n",
    "        \n",
    "        end_bits = (8 - len(coded_text) % 8) \n",
    "        coded_text = bitarray(f'{end_bits:08b}') + coded_text + bitarray(end_bits)\n",
    "\n",
    "        return coded_text\n",
    "    \n",
    "    def decode(self, coded_text):\n",
    "        decoded_text = \"\"\n",
    "        tmp = self.root\n",
    "        end_bits = ba2int(coded_text[:8])\n",
    "        coded_text = coded_text[8:-end_bits]\n",
    "        for char in coded_text:\n",
    "            if char == False:\n",
    "                tmp = tmp.left\n",
    "            else:\n",
    "                tmp = tmp.right\n",
    "            if tmp.is_leaf():\n",
    "                decoded_text += tmp.char\n",
    "                tmp = self.root\n",
    "        return decoded_text\n",
    "    \n",
    "def _time_static(read_file, save_file):\n",
    "    with open(read_file, \"r\") as file:\n",
    "        text = file.read()\n",
    "        \n",
    "    static_huffman = StaticHuffman(text)\n",
    "    start = time()\n",
    "    encoded = static_huffman.encode()\n",
    "    end = time()\n",
    "    \n",
    "    compression_time = end-start\n",
    "    write_compressed(save_file, encoded)\n",
    "    read_encoded = read_compressed(save_file)\n",
    "    \n",
    "    start = time()\n",
    "    decoded = static_huffman.decode(read_encoded)\n",
    "    end = time()\n",
    "    decompression_time = end-start\n",
    "    assert text == decoded\n",
    "    return compression_time, decompression_time"
   ]
  },
  {
   "cell_type": "code",
   "execution_count": 4,
   "id": "wanted-batman",
   "metadata": {},
   "outputs": [],
   "source": [
    "def timer(read_file, method):\n",
    "    print(f\"Test {read_file}, metoda={method}:\")\n",
    "    save_file = \"test_\" + read_file\n",
    "    if method in [\"static\", \"Static\"]:\n",
    "        compression_time, decompression_time = _time_static(read_file, save_file)\n",
    "    else:\n",
    "        compression_time, decompression_time = _time_dynamic(read_file, save_file)\n",
    "    print(f\"Czas kompresji {method}: {compression_time}s\")\n",
    "    print(f\"Czas dekompresji {method}: {decompression_time}s\")\n",
    "    print(f\"Współczynnik kompresji {method}: {get_compression_ratio(read_file, save_file)}%\\n\")"
   ]
  },
  {
   "cell_type": "code",
   "execution_count": 5,
   "id": "sublime-merit",
   "metadata": {},
   "outputs": [
    {
     "name": "stdout",
     "output_type": "stream",
     "text": [
      "Test unix_long_file.c, metoda=static:\n",
      "Czas kompresji static: 0.10260605812072754s\n",
      "Czas dekompresji static: 0.7621722221374512s\n",
      "Współczynnik kompresji static: 0.3235074811601987%\n",
      "\n"
     ]
    }
   ],
   "source": [
    "timer(\"unix_long_file.c\",\"static\")"
   ]
  },
  {
   "cell_type": "markdown",
   "id": "resistant-catch",
   "metadata": {},
   "source": [
    "### Dynamic huffman"
   ]
  },
  {
   "cell_type": "markdown",
   "id": "sacred-western",
   "metadata": {},
   "source": [
    "#### Format pliku\n",
    "\n",
    "* 8 bitów na początku określających ile jest pustych bitów na końcu\n",
    "* zakodowany tekst\n",
    "* puste bity (aby liczba bitów % 8 == 0)"
   ]
  },
  {
   "cell_type": "code",
   "execution_count": 6,
   "id": "received-constraint",
   "metadata": {},
   "outputs": [],
   "source": [
    "class DynamicHuffman:\n",
    "    def __init__(self):\n",
    "        self.order = 100\n",
    "        NYT = Node(weight=0, order=self.order + 1, char='NYT')\n",
    "        self.root = NYT\n",
    "        self.NYT = NYT\n",
    "        self.leaves_dict = {'NYT': NYT}\n",
    "        self.weight_dict = dict()\n",
    "        self.weight_dict[0] = {NYT}\n",
    "        self.weight_dict[1] = set()\n",
    "\n",
    "    def create_new_node(self, char):\n",
    "        NYT = self.NYT\n",
    "        left_node = Node(char='NYT', weight=0, order=self.order - 1, parent=NYT)\n",
    "        right_node = Node(char=char, weight=1, order=self.order, parent=NYT)\n",
    "        self.order -= 2\n",
    "        NYT.char = None\n",
    "        NYT.left = left_node\n",
    "        NYT.right = right_node\n",
    "        self.NYT = left_node\n",
    "        self.weight_dict[0].add(left_node)\n",
    "        self.weight_dict[1].add(right_node)\n",
    "        self.leaves_dict[char] = right_node\n",
    "        self.leaves_dict['NYT'] = left_node\n",
    "        self.increment_and_switch(NYT)\n",
    "\n",
    "    def increment_and_switch(self, node):\n",
    "        while node != self.root:\n",
    "            node = node.parent\n",
    "            max_order_node = max(self.weight_dict[node.weight], key=lambda n: n.order)\n",
    "            if max_order_node != node:\n",
    "                node.order, max_order_node.order = max_order_node.order, node.order\n",
    "                if node.parent == max_order_node.parent:\n",
    "                    if node.parent.left == node:\n",
    "                        node.parent.right = node\n",
    "                        node.parent.left = max_order_node\n",
    "                    else:\n",
    "                        node.parent.right = max_order_node\n",
    "                        node.parent.left = node\n",
    "                else:\n",
    "                    if node.parent.left == node:\n",
    "                        node.parent.left = max_order_node\n",
    "                    else:\n",
    "                        node.parent.right = max_order_node\n",
    "                    \n",
    "                    max_order_node_parent = max_order_node.parent\n",
    "                    max_order_node.parent = node.parent\n",
    "                    if max_order_node_parent.left == max_order_node:\n",
    "                        max_order_node_parent.left = node\n",
    "                    else:\n",
    "                        max_order_node_parent.right = node\n",
    "                    node.parent = max_order_node_parent\n",
    "                    \n",
    "            self.weight_dict[node.weight].remove(node)\n",
    "            node.weight += 1\n",
    "            if node.weight not in self.weight_dict:\n",
    "                self.weight_dict[node.weight] = set()\n",
    "            self.weight_dict[node.weight].add(node)\n",
    "\n",
    "    def get_char_code(self, char):\n",
    "        node = self.leaves_dict[char]\n",
    "        char_code = bitarray()\n",
    "        while node != self.root:\n",
    "            if node.parent.left == node:\n",
    "                char_code.append(0)\n",
    "            else:\n",
    "                char_code.append(1)\n",
    "            node = node.parent\n",
    "        char_code.reverse()\n",
    "        return char_code\n",
    "\n",
    "def decode_dynamic(coded_text):\n",
    "    dynamic_tree = DynamicHuffman()\n",
    "    decoded_text = \"\"\n",
    "    current_node = dynamic_tree.root\n",
    "    end_bits = ba2int(coded_text[:8])\n",
    "    coded_text = coded_text[8:-end_bits]\n",
    "    index = 0\n",
    "    while index < len(coded_text):\n",
    "        while not current_node.is_leaf():\n",
    "            if coded_text[index] == False:\n",
    "                current_node = current_node.left\n",
    "            else:\n",
    "                current_node = current_node.right\n",
    "            index += 1\n",
    "\n",
    "        if current_node.char != 'NYT':\n",
    "            char_decoded = current_node.char\n",
    "            node = dynamic_tree.leaves_dict[char_decoded]\n",
    "            dynamic_tree.increment_and_switch(node)\n",
    "        else:\n",
    "            char_coded = coded_text[index:index + 8]\n",
    "            char_decoded = char_coded.tobytes().decode(\"utf-8\")\n",
    "            dynamic_tree.create_new_node(char_decoded)\n",
    "            index += 8\n",
    "        current_node = dynamic_tree.root\n",
    "        decoded_text += char_decoded\n",
    "    \n",
    "    return decoded_text\n",
    "\n",
    "def encode_dynamic(text):\n",
    "    def _encode_char(char):\n",
    "        if char in tree.leaves_dict:\n",
    "            coded_char = tree.get_char_code(char)\n",
    "            node = tree.leaves_dict[char]\n",
    "            tree.increment_and_switch(node)\n",
    "        else:\n",
    "            char_code = tree.get_char_code('NYT')\n",
    "            char_code.frombytes(char.encode(\"utf-8\"))\n",
    "            coded_char = char_code\n",
    "            tree.create_new_node(char)\n",
    "        return coded_char\n",
    "\n",
    "    tree = DynamicHuffman()\n",
    "    coded_text = bitarray()\n",
    "    for char in text:\n",
    "        coded_text += _encode_char(char)\n",
    "    \n",
    "    end_bits = (8 - len(coded_text) % 8)\n",
    "    coded_text = bitarray(f'{end_bits:08b}') + coded_text + bitarray(end_bits)\n",
    "    return coded_text\n",
    "\n",
    "def _time_dynamic(read_file, save_file): \n",
    "    with open(read_file, \"r\") as file:\n",
    "        text = file.read()\n",
    "        \n",
    "    start = time()\n",
    "    encoded = encode_dynamic(text)\n",
    "    end = time()\n",
    "    compression_time = end-start\n",
    "    \n",
    "    write_compressed(save_file, encoded)\n",
    "    read_encoded = read_compressed(save_file)\n",
    "    \n",
    "    start = time()\n",
    "    decoded = decode_dynamic(read_encoded)\n",
    "    end = time()\n",
    "    decompression_time = end-start\n",
    "    assert text == decoded\n",
    "    return compression_time, decompression_time"
   ]
  },
  {
   "cell_type": "code",
   "execution_count": 7,
   "id": "fresh-utilization",
   "metadata": {
    "scrolled": true
   },
   "outputs": [
    {
     "name": "stdout",
     "output_type": "stream",
     "text": [
      "Test unix_long_file.c, metoda=dynamic:\n",
      "Czas kompresji dynamic: 6.398504972457886s\n",
      "Czas dekompresji dynamic: 6.916891574859619s\n",
      "Współczynnik kompresji dynamic: 0.24465261701830798%\n",
      "\n"
     ]
    }
   ],
   "source": [
    "timer(\"unix_long_file.c\",\"dynamic\")"
   ]
  },
  {
   "cell_type": "markdown",
   "id": "different-fellowship",
   "metadata": {},
   "source": [
    "### Testy"
   ]
  },
  {
   "cell_type": "code",
   "execution_count": 8,
   "id": "packed-croatia",
   "metadata": {},
   "outputs": [
    {
     "name": "stdout",
     "output_type": "stream",
     "text": [
      "Test 1kb.txt, metoda=static:\n",
      "Czas kompresji static: 0.0s\n",
      "Czas dekompresji static: 0.0008783340454101562s\n",
      "Współczynnik kompresji static: 0.42559523809523814%\n",
      "\n",
      "Test 1kb.txt, metoda=dynamic:\n",
      "Czas kompresji dynamic: 0.01200413703918457s\n",
      "Czas dekompresji dynamic: 0.008991003036499023s\n",
      "Współczynnik kompresji dynamic: 0.28422619047619047%\n",
      "\n"
     ]
    }
   ],
   "source": [
    "timer(\"1kb.txt\",\"static\")\n",
    "timer(\"1kb.txt\",\"dynamic\")"
   ]
  },
  {
   "cell_type": "code",
   "execution_count": 9,
   "id": "selected-memory",
   "metadata": {},
   "outputs": [
    {
     "name": "stdout",
     "output_type": "stream",
     "text": [
      "Test 10kb.txt, metoda=static:\n",
      "Czas kompresji static: 0.0029976367950439453s\n",
      "Czas dekompresji static: 0.025757551193237305s\n",
      "Współczynnik kompresji static: 0.436028659160696%\n",
      "\n",
      "Test 10kb.txt, metoda=dynamic:\n",
      "Czas kompresji dynamic: 0.09113383293151855s\n",
      "Czas dekompresji dynamic: 0.07482624053955078s\n",
      "Współczynnik kompresji dynamic: 0.32016376663254864%\n",
      "\n"
     ]
    }
   ],
   "source": [
    "timer(\"10kb.txt\",\"static\")\n",
    "timer(\"10kb.txt\",\"dynamic\")"
   ]
  },
  {
   "cell_type": "code",
   "execution_count": 10,
   "id": "oriented-intervention",
   "metadata": {
    "scrolled": true
   },
   "outputs": [
    {
     "name": "stdout",
     "output_type": "stream",
     "text": [
      "Test 100kb.txt, metoda=static:\n",
      "Czas kompresji static: 0.013973236083984375s\n",
      "Czas dekompresji static: 0.0910348892211914s\n",
      "Współczynnik kompresji static: 0.43565721941464475%\n",
      "\n",
      "Test 100kb.txt, metoda=dynamic:\n",
      "Czas kompresji dynamic: 0.9847598075866699s\n",
      "Czas dekompresji dynamic: 1.2185966968536377s\n",
      "Współczynnik kompresji dynamic: 0.32605333412142523%\n",
      "\n"
     ]
    }
   ],
   "source": [
    "timer(\"100kb.txt\",\"static\")\n",
    "timer(\"100kb.txt\",\"dynamic\")"
   ]
  },
  {
   "cell_type": "code",
   "execution_count": 11,
   "id": "collective-pitch",
   "metadata": {},
   "outputs": [
    {
     "name": "stdout",
     "output_type": "stream",
     "text": [
      "Test 1mb.txt, metoda=static:\n",
      "Czas kompresji static: 0.12251019477844238s\n",
      "Czas dekompresji static: 0.906287431716919s\n",
      "Współczynnik kompresji static: 0.4356254736365128%\n",
      "\n",
      "Test 1mb.txt, metoda=dynamic:\n",
      "Czas kompresji dynamic: 9.316588640213013s\n",
      "Czas dekompresji dynamic: 9.04110312461853s\n",
      "Współczynnik kompresji dynamic: 0.3340348362096579%\n",
      "\n"
     ]
    }
   ],
   "source": [
    "timer(\"1mb.txt\",\"static\")\n",
    "timer(\"1mb.txt\",\"dynamic\")"
   ]
  },
  {
   "cell_type": "code",
   "execution_count": 12,
   "id": "heard-feelings",
   "metadata": {
    "scrolled": true
   },
   "outputs": [
    {
     "name": "stdout",
     "output_type": "stream",
     "text": [
      "Test guttenberg.txt, metoda=static:\n",
      "Czas kompresji static: 0.026180744171142578s\n",
      "Czas dekompresji static: 0.15308427810668945s\n",
      "Współczynnik kompresji static: 0.4399711166543795%\n",
      "\n",
      "Test guttenberg.txt, metoda=dynamic:\n",
      "Czas kompresji dynamic: 1.637868881225586s\n",
      "Czas dekompresji dynamic: 1.5693025588989258s\n",
      "Współczynnik kompresji dynamic: 0.32944687383229476%\n",
      "\n"
     ]
    }
   ],
   "source": [
    "timer(\"guttenberg.txt\",\"static\")\n",
    "timer(\"guttenberg.txt\",\"dynamic\")"
   ]
  },
  {
   "cell_type": "code",
   "execution_count": 13,
   "id": "romantic-flush",
   "metadata": {},
   "outputs": [
    {
     "name": "stdout",
     "output_type": "stream",
     "text": [
      "Test unix_long_file.c, metoda=static:\n",
      "Czas kompresji static: 0.07562088966369629s\n",
      "Czas dekompresji static: 0.6662788391113281s\n",
      "Współczynnik kompresji static: 0.3235074811601987%\n",
      "\n",
      "Test unix_long_file.c, metoda=dynamic:\n",
      "Czas kompresji dynamic: 6.490269184112549s\n",
      "Czas dekompresji dynamic: 6.0875020027160645s\n",
      "Współczynnik kompresji dynamic: 0.24465261701830798%\n",
      "\n"
     ]
    }
   ],
   "source": [
    "timer(\"unix_long_file.c\",\"static\")\n",
    "timer(\"unix_long_file.c\",\"dynamic\")"
   ]
  },
  {
   "cell_type": "code",
   "execution_count": 14,
   "id": "reflected-revelation",
   "metadata": {
    "scrolled": true
   },
   "outputs": [
    {
     "name": "stdout",
     "output_type": "stream",
     "text": [
      "Test random.txt, metoda=static:\n",
      "Czas kompresji static: 0.02000880241394043s\n",
      "Czas dekompresji static: 0.11568617820739746s\n",
      "Współczynnik kompresji static: 0.22967307692307692%\n",
      "\n",
      "Test random.txt, metoda=dynamic:\n",
      "Czas kompresji dynamic: 0.9722821712493896s\n",
      "Czas dekompresji dynamic: 0.9192969799041748s\n",
      "Współczynnik kompresji dynamic: 0.2263846153846154%\n",
      "\n"
     ]
    }
   ],
   "source": [
    "generate_uniform_dist_file(\"random.txt\", 100000)\n",
    "timer(\"random.txt\",\"static\")\n",
    "timer(\"random.txt\",\"dynamic\")"
   ]
  }
 ],
 "metadata": {
  "kernelspec": {
   "display_name": "Python 3",
   "language": "python",
   "name": "python3"
  },
  "language_info": {
   "codemirror_mode": {
    "name": "ipython",
    "version": 3
   },
   "file_extension": ".py",
   "mimetype": "text/x-python",
   "name": "python",
   "nbconvert_exporter": "python",
   "pygments_lexer": "ipython3",
   "version": "3.8.8"
  }
 },
 "nbformat": 4,
 "nbformat_minor": 5
}
