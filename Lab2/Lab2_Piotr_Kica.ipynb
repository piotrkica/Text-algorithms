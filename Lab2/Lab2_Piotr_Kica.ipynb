{
 "cells": [
  {
   "cell_type": "markdown",
   "id": "extreme-england",
   "metadata": {},
   "source": [
    "#### Function to check if last char is unique"
   ]
  },
  {
   "cell_type": "code",
   "execution_count": 1,
   "id": "scientific-clerk",
   "metadata": {},
   "outputs": [],
   "source": [
    "# I assume that # cannot occur in any text except once on the very end.\n",
    "# Test strings are in last cell\n",
    "\n",
    "def check_last_char(text):\n",
    "    last_char = text[-1]\n",
    "    for char in text[0:-1]:\n",
    "        if char == last_char:\n",
    "            return text + \"#\"\n",
    "    return text"
   ]
  },
  {
   "cell_type": "code",
   "execution_count": 4,
   "id": "printable-allen",
   "metadata": {},
   "outputs": [
    {
     "name": "stdout",
     "output_type": "stream",
     "text": [
      "abcbccd\n",
      "abcdccda#\n"
     ]
    }
   ],
   "source": [
    "print(check_last_char(s4))\n",
    "print(check_last_char(\"abcdccda\"))"
   ]
  },
  {
   "cell_type": "markdown",
   "id": "marked-optimum",
   "metadata": {},
   "source": [
    "### Trie"
   ]
  },
  {
   "cell_type": "code",
   "execution_count": 5,
   "id": "explicit-spouse",
   "metadata": {},
   "outputs": [],
   "source": [
    "class Node:\n",
    "    def __init__(self, char = None):\n",
    "        self.char = char\n",
    "        self.children = dict()\n",
    "        \n",
    "class Trie:\n",
    "    def __init__(self, text):\n",
    "        self.root = Node()\n",
    "        for char_idx in range(len(text)):\n",
    "            current = self.root\n",
    "            prefix = text[char_idx:]\n",
    "            for prefix_char in prefix:\n",
    "                if prefix_char not in current.children:\n",
    "                    current.children[prefix_char] = Node(prefix_char)\n",
    "                current = current.children[prefix_char]\n",
    "\n",
    "    def find(self, text):\n",
    "        current = self.root\n",
    "        for char in text:\n",
    "            if char not in current.children:\n",
    "                return False\n",
    "            current = current.children[char]\n",
    "        return True"
   ]
  },
  {
   "cell_type": "code",
   "execution_count": 6,
   "id": "labeled-button",
   "metadata": {},
   "outputs": [
    {
     "data": {
      "text/plain": [
       "True"
      ]
     },
     "execution_count": 6,
     "metadata": {},
     "output_type": "execute_result"
    }
   ],
   "source": [
    "article_trie = Trie(article)\n",
    "article_trie.find(\"USTAWA\")"
   ]
  },
  {
   "cell_type": "code",
   "execution_count": 7,
   "id": "faced-bottle",
   "metadata": {},
   "outputs": [],
   "source": [
    "class SuffixNode:\n",
    "    def __init__(self, tree, start, end):\n",
    "        self.tree = tree\n",
    "        self.start = start\n",
    "        self.end = end\n",
    "        self.parent = None\n",
    "        self.depth = 0\n",
    "        self.children = dict()\n",
    "    \n",
    "    def get_char(self, index):\n",
    "        return self.tree.text[self.start + index]\n",
    "    \n",
    "    def get_child(self, char):\n",
    "        if char in self.children:\n",
    "            return self.children[char]\n",
    "        else:\n",
    "            return None\n",
    "\n",
    "    def add_node_between(self, depth):\n",
    "        new_node = SuffixNode(self.tree, self.start, self.start + depth - 1)\n",
    "        self.start += depth\n",
    "        self.parent.children[self.tree.text[new_node.start]] = new_node\n",
    "        new_node.parent = self.parent\n",
    "        new_node.children[self.get_char(0)] = self\n",
    "        self.parent = new_node\n",
    "        new_node.depth = new_node.parent.depth + depth\n",
    "        return new_node\n",
    "    \n",
    "    def graft(self, start):\n",
    "        new_node = SuffixNode(self.tree, start, self.tree.n-1)\n",
    "        self.children[self.tree.text[start]] = new_node\n",
    "        new_node.parent = self\n",
    "        return new_node\n",
    "                \n",
    "\n",
    "class SuffixTree:\n",
    "    def __init__(self, text):\n",
    "        self.text = text\n",
    "        self.n = len(text)\n",
    "        self.root = SuffixNode(self, 0, -1)\n",
    "        child = SuffixNode(self, 0, self.n-1)\n",
    "        child.parent = self.root\n",
    "        child.depth = self.n\n",
    "        self.root.children[text[0]] = child\n",
    "        \n",
    "        for i in range(1, self.n - 1):\n",
    "            node = self.root\n",
    "            depth = 0\n",
    "            \n",
    "            while node.get_child(self.text[depth + i]):\n",
    "                node = node.get_child(self.text[depth + i])\n",
    "                depth += 1\n",
    "                node_depth = 1\n",
    "                \n",
    "                while node.start + node_depth <= node.end and node.get_char(node_depth) == self.text[depth + i]:\n",
    "                    depth += 1\n",
    "                    node_depth += 1\n",
    "                    \n",
    "                if node.start + node_depth <= node.end and node.get_char(node_depth) != self.text[depth + i]:\n",
    "                    node = node.add_node_between(node_depth)\n",
    "                    break\n",
    "                    \n",
    "            node.graft(depth + i)\n",
    "    \n",
    "    def find(self, text):\n",
    "        current = self.root\n",
    "        depth = 0\n",
    "        \n",
    "        for char in text:\n",
    "            if current.start + depth <= current.end:\n",
    "                if current.get_char(depth) != char:\n",
    "                    return False\n",
    "                depth += 1\n",
    "            else:\n",
    "                current = current.get_child(char)\n",
    "                if current is None:\n",
    "                    return False\n",
    "                depth = 1\n",
    "                \n",
    "        return True"
   ]
  },
  {
   "cell_type": "code",
   "execution_count": 8,
   "id": "comparable-charlotte",
   "metadata": {},
   "outputs": [
    {
     "data": {
      "text/plain": [
       "True"
      ]
     },
     "execution_count": 8,
     "metadata": {},
     "output_type": "execute_result"
    }
   ],
   "source": [
    "article_SuffixTree = SuffixTree(article)\n",
    "article_SuffixTree.find(\"USTAWA\")"
   ]
  },
  {
   "cell_type": "markdown",
   "id": "developed-prince",
   "metadata": {},
   "source": [
    "#### Validation tests"
   ]
  },
  {
   "cell_type": "code",
   "execution_count": 9,
   "id": "charitable-hypothesis",
   "metadata": {},
   "outputs": [],
   "source": [
    "# Naive pattern matching algorithm\n",
    "def naive(text, pattern):\n",
    "    matches = []\n",
    "    for i in range(len(text)-len(pattern)+1):\n",
    "        if text[i:i+len(pattern)] == pattern:\n",
    "            matches.append(i)\n",
    "    return matches"
   ]
  },
  {
   "cell_type": "code",
   "execution_count": 10,
   "id": "geographic-integration",
   "metadata": {},
   "outputs": [
    {
     "name": "stdout",
     "output_type": "stream",
     "text": [
      "True\n",
      "True\n",
      "True\n",
      "True\n",
      "True\n",
      "True\n",
      "True\n",
      "True\n"
     ]
    }
   ],
   "source": [
    "# All should be true\n",
    "\n",
    "# String is found in text:\n",
    "print((len(naive(s1, \"bb\")) > 0) == Trie(s1).find(\"bb\"))\n",
    "print((len(naive(s2, \"babd\")) > 0) == Trie(s2).find(\"babd\"))\n",
    "print((len(naive(s3, \"ababcd\")) > 0) == Trie(s3).find(\"ababcd\"))\n",
    "print((len(naive(article, \"Art\")) > 0) == Trie(article).find(\"Art\"))\n",
    "# String is not found in text:\n",
    "print((len(naive(s3, \"ababcd\")) > 0) == Trie(s3).find(\"ababcd\"))\n",
    "print((len(naive(s4, \"ab\")) > 0) == Trie(s4).find(\"ab\"))\n",
    "print((len(naive(s5, \"cc\")) > 0) == Trie(s5).find(\"cc\"))\n",
    "print((len(naive(article, \"segfault\")) > 0) == Trie(article).find(\"segfault\"))\n",
    "\n",
    "# Trie is correct"
   ]
  },
  {
   "cell_type": "code",
   "execution_count": 11,
   "id": "molecular-screw",
   "metadata": {
    "scrolled": true
   },
   "outputs": [
    {
     "name": "stdout",
     "output_type": "stream",
     "text": [
      "True\n",
      "True\n",
      "True\n",
      "True\n",
      "True\n",
      "True\n",
      "True\n",
      "True\n"
     ]
    }
   ],
   "source": [
    "# All should be true\n",
    "\n",
    "# String is found in text:\n",
    "print((len(naive(s1, \"bb\")) > 0) == SuffixTree(s1).find(\"bb\"))\n",
    "print((len(naive(s2, \"babd\")) > 0) == SuffixTree(s2).find(\"babd\"))\n",
    "print((len(naive(s3, \"ababcd\")) > 0) == SuffixTree(s3).find(\"ababcd\"))\n",
    "print((len(naive(article, \"Art\")) > 0) == SuffixTree(article).find(\"Art\"))\n",
    "# String is not found in text:\n",
    "print((len(naive(s3, \"eeeeeee\")) > 0) == SuffixTree(s3).find(\"eeeeeee\"))\n",
    "print((len(naive(s4, \"ee\")) > 0) == SuffixTree(s4).find(\"ee\"))\n",
    "print((len(naive(s5, \"dźwig\")) > 0) == SuffixTree(s5).find(\"dźwig\"))\n",
    "print((len(naive(article, \"segfault\")) > 0) == SuffixTree(article).find(\"segfault\"))\n",
    "\n",
    "# SuffixTree is correct"
   ]
  },
  {
   "cell_type": "markdown",
   "id": "southeast-intellectual",
   "metadata": {},
   "source": [
    "### Performance tests"
   ]
  },
  {
   "cell_type": "code",
   "execution_count": 12,
   "id": "different-klein",
   "metadata": {},
   "outputs": [],
   "source": [
    "from time import time\n",
    "\n",
    "def timer(f, text):\n",
    "    start = time()\n",
    "    if f in (\"trie\", \"Trie\"):\n",
    "        Trie(text)\n",
    "    else:\n",
    "        SuffixTree(text)\n",
    "    end = time()\n",
    "    print(f\"Czas wykonania {f} :\", end-start, \"s\")"
   ]
  },
  {
   "cell_type": "code",
   "execution_count": 13,
   "id": "accurate-ladder",
   "metadata": {},
   "outputs": [
    {
     "name": "stdout",
     "output_type": "stream",
     "text": [
      "Czas wykonania Trie : 0.0 s\n",
      "Czas wykonania Trie : 0.06525015830993652 s\n",
      "Czas wykonania Trie : 0.586336612701416 s\n",
      "Czas wykonania Trie : 1.4023330211639404 s\n",
      "Czas wykonania Trie : 7.581031560897827 s\n",
      "Czas wykonania SuffixTree : 0.0 s\n",
      "Czas wykonania SuffixTree : 0.10004043579101562 s\n",
      "Czas wykonania SuffixTree : 1.9399893283843994 s\n",
      "Czas wykonania SuffixTree : 0.002053499221801758 s\n",
      "Czas wykonania SuffixTree : 0.02546977996826172 s\n"
     ]
    }
   ],
   "source": [
    "timer(\"Trie\", s1)\n",
    "timer(\"Trie\", \"Jeden może to wszyscy mogą\"*30+\"#\")\n",
    "timer(\"Trie\", \"Jak to jest byc skryba, dobrze?\" * 100 +\"#\")\n",
    "timer(\"Trie\", miniarticle)\n",
    "timer(\"Trie\", article)\n",
    "\n",
    "timer(\"SuffixTree\", s1)\n",
    "timer(\"SuffixTree\", \"Jeden moze to wszyscy moga\"*30+\"#\")\n",
    "timer(\"SuffixTree\", \"Jak to jest byc skryba, dobrze?\" * 100 +\"#\")\n",
    "timer(\"SuffixTree\", miniarticle)\n",
    "timer(\"SuffixTree\", article)"
   ]
  },
  {
   "cell_type": "code",
   "execution_count": 3,
   "id": "technical-herald",
   "metadata": {},
   "outputs": [],
   "source": [
    "s1 = \"bbbd\"\n",
    "s2 = \"aabbabd\"\n",
    "s3 = \"ababcd\"\n",
    "s4 = \"abcbccd\"\n",
    "s5 = \"abcbccda#\"\n",
    "\n",
    "miniarticle = \"\"\"Przychodów (dochodów) opodatkowanych w formach zryczałtowanych nie łączy się z\n",
    "przychodami (dochodami) z innych źródeł podlegającymi opodatkowaniu na\n",
    "podstawie ustawy z dnia 26 lipca 1991 r. o podatku dochodowym od osób\n",
    "fizycznych (Dz. U. z 1993 r. Nr 90, poz. 416 i Nr 134, poz. 646, z 1994 r. Nr\n",
    "43, poz. 163, Nr 90, poz. 419, Nr 113, poz. 547, Nr 123, poz. 602 i Nr 126,\n",
    "poz. 626, z 1995 r. Nr 5, poz. 25 i Nr 133, poz. 654, z 1996 r. Nr 25, poz.\n",
    "113, Nr 87, poz. 395, Nr 137, poz. 638, Nr 147, poz. 686 i Nr 156, poz. 776, z\n",
    "1997 r. Nr 28, poz. 153, Nr 30, poz. 164, Nr 71, poz. 449, Nr 85, poz. 538, Nr\n",
    "96, poz. 592, Nr 121, poz. 770, Nr 123, poz. 776, Nr 137, poz. 926, Nr 139,\n",
    "poz. 932-934 i Nr 141, poz. 943 i 945 oraz z 1998 r. Nr 66, poz. 430, Nr 74,\n",
    "poz. 471, Nr 108, poz. 685 i Nr 117, poz. 756), zwanej dalej \"ustawą o podatku\n",
    "dochodowym#\"\"\" \n",
    "\n",
    "\n",
    "article = \"\"\"\n",
    "\n",
    "\n",
    "\n",
    "Dz.U. z 1998 r. Nr 144, poz. 930\n",
    "                                       \n",
    "                                       \n",
    "                                       \n",
    "                                       \n",
    "                                    USTAWA\n",
    "                          z dnia 20 listopada 1998 r.\n",
    "                                       \n",
    "         o zryczałtowanym podatku dochodowym od niektórych przychodów\n",
    "                        osiąganych przez osoby fizyczne\n",
    "                                       \n",
    "                                  Rozdział 1\n",
    "                                Przepisy ogólne\n",
    "                                       \n",
    "                                    Art. 1.\n",
    "Ustawa reguluje opodatkowanie zryczałtowanym podatkiem dochodowym niektórych\n",
    "przychodów (dochodów) osiąganych przez osoby fizyczne prowadzące pozarolniczą\n",
    "działalność gospodarczą oraz przez osoby duchowne.\n",
    "                                       \n",
    "                                    Art. 2.\n",
    "1. Osoby fizyczne osiągające przychody z pozarolniczej działalności\n",
    "  gospodarczej opłacają zryczałtowany podatek dochodowy w formie:\n",
    "   1) ryczałtu od przychodów ewidencjonowanych,\n",
    "   2) karty podatkowej.\n",
    "2. Osoby duchowne, prawnie uznanych wyznań, opłacają zryczałtowany podatek\n",
    "  dochodowy od przychodów osób duchownych.\n",
    "3. Wpływy z podatku dochodowego opłacanego w formie ryczałtu od przychodów\n",
    "  ewidencjonowanych oraz zryczałtowanego podatku dochodowego od przychodów\n",
    "  osób duchownych stanowią dochód budżetu państwa.\n",
    "4. Wpływy z karty podatkowej stanowią dochody gmin.\n",
    "                                       \n",
    "                                    Art. 3.\n",
    "Przychodów (dochodów) opodatkowanych w formach zryczałtowanych nie łączy się z\n",
    "przychodami (dochodami) z innych źródeł podlegającymi opodatkowaniu na\n",
    "podstawie ustawy z dnia 26 lipca 1991 r. o podatku dochodowym od osób\n",
    "fizycznych (Dz. U. z 1993 r. Nr 90, poz. 416 i Nr 134, poz. 646, z 1994 r. Nr\n",
    "43, poz. 163, Nr 90, poz. 419, Nr 113, poz. 547, Nr 123, poz. 602 i Nr 126,\n",
    "poz. 626, z 1995 r. Nr 5, poz. 25 i Nr 133, poz. 654, z 1996 r. Nr 25, poz.\n",
    "113, Nr 87, poz. 395, Nr 137, poz. 638, Nr 147, poz. 686 i Nr 156, poz. 776, z\n",
    "1997 r. Nr 28, poz. 153, Nr 30, poz. 164, Nr 71, poz. 449, Nr 85, poz. 538, Nr\n",
    "96, poz. 592, Nr 121, poz. 770, Nr 123, poz. 776, Nr 137, poz. 926, Nr 139,\n",
    "poz. 932-934 i Nr 141, poz. 943 i 945 oraz z 1998 r. Nr 66, poz. 430, Nr 74,\n",
    "poz. 471, Nr 108, poz. 685 i Nr 117, poz. 756), zwanej dalej \"ustawą o podatku\n",
    "dochodowym\".#\n",
    "\"\"\""
   ]
  },
  {
   "cell_type": "code",
   "execution_count": null,
   "id": "august-fabric",
   "metadata": {},
   "outputs": [],
   "source": []
  }
 ],
 "metadata": {
  "kernelspec": {
   "display_name": "Python 3",
   "language": "python",
   "name": "python3"
  },
  "language_info": {
   "codemirror_mode": {
    "name": "ipython",
    "version": 3
   },
   "file_extension": ".py",
   "mimetype": "text/x-python",
   "name": "python",
   "nbconvert_exporter": "python",
   "pygments_lexer": "ipython3",
   "version": "3.8.8"
  }
 },
 "nbformat": 4,
 "nbformat_minor": 5
}
